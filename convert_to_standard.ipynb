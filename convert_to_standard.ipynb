{
 "cells": [
  {
   "cell_type": "code",
   "execution_count": 4,
   "metadata": {},
   "outputs": [
    {
     "name": "stdout",
     "output_type": "stream",
     "text": [
      "Number of training images: 12118\n",
      "Number of validation images: 1347\n"
     ]
    }
   ],
   "source": [
    "# import json\n",
    "# import random\n",
    "\n",
    "# bbox_path = \"/trunk/home/yifanzhu/get_cutouts/IoU_outputs.json\"\n",
    "\n",
    "# # Read the JSON file\n",
    "# with open(bbox_path, 'r') as f:\n",
    "#     data = json.load(f)\n",
    "\n",
    "# # Get all image paths\n",
    "# image_paths = []\n",
    "# for item in data:\n",
    "#     pid = item['PID']\n",
    "#     image_path = f\"P{int(pid):06}.jpg\"\n",
    "#     image_paths.append(image_path)\n",
    "\n",
    "# # Shuffle the image paths randomly\n",
    "# random.shuffle(image_paths)\n",
    "\n",
    "# # Split into training and validation sets with a 9:1 ratio\n",
    "# split_index = int(len(image_paths) * 0.9)\n",
    "# train_images = image_paths[:split_index]\n",
    "# val_images = image_paths[split_index:]\n",
    "\n",
    "# # Write the paths to the corresponding files\n",
    "# train_list_path = '/trunk2/yufei/summer24/Cuneiform/Cunei_train_list.txt'\n",
    "# val_list_path = '/trunk2/yufei/summer24/Cuneiform/Cunei_val_list.txt'\n",
    "\n",
    "# with open(train_list_path, 'w') as train_file:\n",
    "#     for path in train_images:\n",
    "#         train_file.write(f\"{path}\\n\")\n",
    "\n",
    "# with open(val_list_path, 'w') as val_file:\n",
    "#     for path in val_images:\n",
    "#         val_file.write(f\"{path}\\n\")\n",
    "\n",
    "# print(f\"Number of training images: {len(train_images)}\")\n",
    "# print(f\"Number of validation images: {len(val_images)}\")\n"
   ]
  },
  {
   "cell_type": "code",
   "execution_count": 5,
   "metadata": {},
   "outputs": [
    {
     "name": "stdout",
     "output_type": "stream",
     "text": [
      "1,000 image paths saved to: /trunk2/yufei/summer24/Cuneiform/Cunei_train_list_1k.txt\n",
      "5,000 image paths saved to: /trunk2/yufei/summer24/Cuneiform/Cunei_train_list_5k.txt\n"
     ]
    }
   ],
   "source": [
    "# # Define the paths for input and output files\n",
    "# train_list_path = '/trunk2/yufei/summer24/Cuneiform/Cunei_train_list.txt'\n",
    "# output_1k_path = '/trunk2/yufei/summer24/Cuneiform/Cunei_train_list_1k.txt'\n",
    "# output_5k_path = '/trunk2/yufei/summer24/Cuneiform/Cunei_train_list_5k.txt'\n",
    "\n",
    "# # Read all lines (image paths) from the original train list\n",
    "# with open(train_list_path, 'r') as f:\n",
    "#     all_images = f.readlines()\n",
    "\n",
    "# # Extract the first 1,000 and 5,000 image paths\n",
    "# images_1k = all_images[:1000]\n",
    "# images_5k = all_images[1000:6000]\n",
    "\n",
    "# # Write the 1,000 image paths to the new file\n",
    "# with open(output_1k_path, 'w') as f_1k:\n",
    "#     f_1k.writelines(images_1k)\n",
    "\n",
    "# # Write the 5,000 image paths to the new file\n",
    "# with open(output_5k_path, 'w') as f_5k:\n",
    "#     f_5k.writelines(images_5k)\n",
    "\n",
    "# print(f\"1,000 image paths saved to: {output_1k_path}\")\n",
    "# print(f\"5,000 image paths saved to: {output_5k_path}\")\n"
   ]
  },
  {
   "cell_type": "code",
   "execution_count": 25,
   "metadata": {},
   "outputs": [
    {
     "name": "stdout",
     "output_type": "stream",
     "text": [
      "Image copying completed.\n"
     ]
    }
   ],
   "source": [
    "import shutil\n",
    "import os\n",
    "import tqdm\n",
    "\n",
    "img_base_path = \"/trunk/shared/cuneiform/full_data/images/\"\n",
    "\n",
    "# Define the paths for the source lists and destination directories\n",
    "train_list_1k_path = '/trunk2/yufei/summer24/Cuneiform/Cunei_train_list_5k.txt'\n",
    "val_list_path = '/trunk2/yufei/summer24/Cuneiform/Cunei_val_list.txt'\n",
    "\n",
    "train_dest_dir = '/trunk3/shared/yufei/dataset/Cuneiform/pictures/train'\n",
    "val_dest_dir = '/trunk3/shared/yufei/dataset/Cuneiform/pictures/val'\n",
    "\n",
    "# Ensure the destination directories exist\n",
    "os.makedirs(train_dest_dir, exist_ok=True)\n",
    "os.makedirs(val_dest_dir, exist_ok=True)\n",
    "\n",
    "# Function to copy images based on a list\n",
    "def copy_images(source_list, dest_dir):\n",
    "    with open(source_list, 'r') as file:\n",
    "        image_paths = file.readlines()\n",
    "\n",
    "    for image_path in image_paths:\n",
    "        image_path = image_path.strip()  # Remove any leading/trailing whitespace\n",
    "        image_path = os.path.join(img_base_path, image_path)\n",
    "        if os.path.exists(image_path):  # Check if the file exists\n",
    "            shutil.copy(image_path, dest_dir)  # Copy the image to the destination directory\n",
    "        else:\n",
    "            print(f\"File not found: {image_path}\")\n",
    "\n",
    "# Copy the 1k training images\n",
    "copy_images(train_list_1k_path, train_dest_dir)\n",
    "\n",
    "# Copy the validation images\n",
    "copy_images(val_list_path, val_dest_dir)\n",
    "\n",
    "print(\"Image copying completed.\")\n"
   ]
  },
  {
   "cell_type": "code",
   "execution_count": 26,
   "metadata": {},
   "outputs": [
    {
     "name": "stdout",
     "output_type": "stream",
     "text": [
      "JSON files created and saved successfully.\n"
     ]
    }
   ],
   "source": [
    "import json\n",
    "import os\n",
    "\n",
    "# Paths to necessary files and directories\n",
    "iou_outputs_path = '/trunk/home/yifanzhu/get_cutouts/IoU_outputs.json'\n",
    "train_list_1k_path = '/trunk2/yufei/summer24/Cuneiform/Cunei_train_list_5k.txt'\n",
    "val_list_path = '/trunk2/yufei/summer24/Cuneiform/Cunei_val_list.txt'\n",
    "\n",
    "train_jsons_dir = '/trunk3/shared/yufei/dataset/Cuneiform/jsons/train'\n",
    "val_jsons_dir = '/trunk3/shared/yufei/dataset/Cuneiform/jsons/val'\n",
    "\n",
    "# Ensure the destination directories exist\n",
    "os.makedirs(train_jsons_dir, exist_ok=True)\n",
    "os.makedirs(val_jsons_dir, exist_ok=True)\n",
    "\n",
    "# Load the IoU outputs JSON file\n",
    "with open(iou_outputs_path, 'r') as f:\n",
    "    iou_data = json.load(f)\n",
    "\n",
    "# Create a dictionary mapping PID to major_cutout for quick lookup\n",
    "pid_to_cutout = {item['PID']: item['major_cutout'] for item in iou_data}\n",
    "\n",
    "# Function to create and save JSON file for each image\n",
    "def create_json_file(image_list_path, output_dir):\n",
    "    with open(image_list_path, 'r') as f:\n",
    "        image_paths = f.readlines()\n",
    "\n",
    "    for image_path in image_paths:\n",
    "        image_path = image_path.strip()\n",
    "        pid_from_name = os.path.basename(image_path).split('.')[0][1:]  # Extract PID from filename (e.g., P000007 -> 7)\n",
    "        pid = str(int(pid_from_name))  # Convert the PID to an integer and back to a string to remove leading zeros\n",
    "        # print(pid_from_name, int(pid_from_name), pid)\n",
    "\n",
    "        if pid in pid_to_cutout:\n",
    "            major_cutout = pid_to_cutout[pid]\n",
    "            # Convert the bounding box (x0, y0, x1, y1) to a polygon with 4 corners\n",
    "            polygon = [\n",
    "                [major_cutout[0], major_cutout[1]],  # Top-left\n",
    "                [major_cutout[2], major_cutout[1]],  # Top-right\n",
    "                [major_cutout[2], major_cutout[3]],  # Bottom-right\n",
    "                [major_cutout[0], major_cutout[3]]   # Bottom-left\n",
    "            ]\n",
    "            json_content = [{\n",
    "                \"polygon\": polygon,\n",
    "                \"confidence\": 1,\n",
    "                \"channel\": \"text_line\"\n",
    "            }]\n",
    "            # Construct the output JSON filename\n",
    "            json_filename = os.path.splitext(os.path.basename(image_path))[0] + '.json'\n",
    "            json_output_path = os.path.join(output_dir, json_filename)\n",
    "            \n",
    "            # Write the JSON content to the file\n",
    "            with open(json_output_path, 'w') as json_file:\n",
    "                json.dump(json_content, json_file, indent=4)\n",
    "        else:\n",
    "            print(f\"PID {pid} not found in IoU data.\")\n",
    "\n",
    "# Process training images\n",
    "create_json_file(train_list_1k_path, train_jsons_dir)\n",
    "\n",
    "# Process validation images\n",
    "create_json_file(val_list_path, val_jsons_dir)\n",
    "\n",
    "print(\"JSON files created and saved successfully.\")\n"
   ]
  }
 ],
 "metadata": {
  "kernelspec": {
   "display_name": "Python 3 (ipykernel)",
   "language": "python",
   "name": "python3"
  },
  "language_info": {
   "codemirror_mode": {
    "name": "ipython",
    "version": 3
   },
   "file_extension": ".py",
   "mimetype": "text/x-python",
   "name": "python",
   "nbconvert_exporter": "python",
   "pygments_lexer": "ipython3",
   "version": "3.8.19"
  }
 },
 "nbformat": 4,
 "nbformat_minor": 4
}
