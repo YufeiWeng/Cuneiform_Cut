{
 "cells": [
  {
   "cell_type": "code",
   "execution_count": 1,
   "metadata": {},
   "outputs": [],
   "source": [
    "import os\n",
    "def find_image_file(base_path, file_name_without_extension):\n",
    "    # Define the possible image extensions\n",
    "    image_extensions = ['.jpg', '.png', '.JPG', '.tif']\n",
    "    \n",
    "    # Search for image files with the specified base name and extensions\n",
    "    for extension in image_extensions:\n",
    "        # Build the path for the image file\n",
    "        image_path = os.path.join(base_path, file_name_without_extension + extension)\n",
    "        if os.path.exists(image_path):\n",
    "            return image_path  # Return the image path if file exists\n",
    "\n",
    "    return None  # If no image file is found"
   ]
  },
  {
   "cell_type": "code",
   "execution_count": 3,
   "metadata": {},
   "outputs": [
    {
     "name": "stderr",
     "output_type": "stream",
     "text": [
      "Processing JSON files:  26%|██▌       | 59/226 [00:04<00:12, 13.10it/s]libpng warning: iCCP: known incorrect sRGB profile\n",
      "libpng warning: iCCP: known incorrect sRGB profile\n",
      "Processing JSON files:  44%|████▍     | 99/226 [00:07<00:09, 13.56it/s]libpng warning: iCCP: known incorrect sRGB profile\n",
      "Processing JSON files:  51%|█████▏    | 116/226 [00:09<00:07, 13.94it/s]libpng warning: iCCP: known incorrect sRGB profile\n",
      "Processing JSON files:  55%|█████▍    | 124/226 [00:09<00:09, 11.13it/s]libpng warning: iCCP: known incorrect sRGB profile\n",
      "Processing JSON files:  58%|█████▊    | 130/226 [00:10<00:07, 13.69it/s]libpng warning: iCCP: known incorrect sRGB profile\n",
      "Processing JSON files:  64%|██████▍   | 145/226 [00:12<00:06, 11.66it/s]libpng warning: iCCP: known incorrect sRGB profile\n",
      "Processing JSON files:  69%|██████▊   | 155/226 [00:13<00:08,  8.13it/s]libpng warning: iCCP: known incorrect sRGB profile\n",
      "Processing JSON files:  74%|███████▍  | 167/226 [00:14<00:05,  9.99it/s]libpng warning: iCCP: known incorrect sRGB profile\n",
      "Processing JSON files:  83%|████████▎ | 188/226 [00:16<00:02, 13.60it/s]libpng warning: iCCP: known incorrect sRGB profile\n",
      "libpng warning: iCCP: known incorrect sRGB profile\n",
      "Processing JSON files:  92%|█████████▏| 209/226 [00:17<00:01, 12.78it/s]libpng warning: iCCP: known incorrect sRGB profile\n",
      "Processing JSON files:  96%|█████████▋| 218/226 [00:18<00:00, 14.68it/s]libpng warning: iCCP: known incorrect sRGB profile\n",
      "Processing JSON files: 100%|██████████| 226/226 [00:18<00:00, 12.04it/s]"
     ]
    },
    {
     "name": "stdout",
     "output_type": "stream",
     "text": [
      "All files processed.\n"
     ]
    },
    {
     "name": "stderr",
     "output_type": "stream",
     "text": [
      "\n"
     ]
    }
   ],
   "source": [
    "# Polygon\n",
    "import os\n",
    "from pathlib import Path\n",
    "import cv2\n",
    "import json\n",
    "from tqdm import tqdm\n",
    "\n",
    "# Directory paths\n",
    "json_dir = \"/trunk3/shared/yufei/dataset/jsons/val\"\n",
    "image_dir = \"/trunk3/shared/yufei/dataset/pictures/val\"\n",
    "output_dir = \"/trunk2/yufei/summer24/arabic_ms_data/teklia/ground_true/mask\"\n",
    "\n",
    "# Ensure the output directory exists\n",
    "os.makedirs(output_dir, exist_ok=True)\n",
    "\n",
    "# List all JSON files in the directory\n",
    "json_files = list(Path(json_dir).rglob('*.json'))\n",
    "\n",
    "# Helper function to find corresponding image file\n",
    "def find_image_file(base_path, file_name_without_extension):\n",
    "    image_extensions = ['.jpg', '.png', '.JPG', '.tif']\n",
    "    for extension in image_extensions:\n",
    "        image_path = os.path.join(base_path, file_name_without_extension + extension)\n",
    "        if os.path.exists(image_path):\n",
    "            return image_path\n",
    "    return None\n",
    "\n",
    "# Process each JSON file\n",
    "for json_file_path in tqdm(json_files, desc='Processing JSON files'):\n",
    "    with open(str(json_file_path), 'r') as f:\n",
    "        annotations_data = json.load(f)\n",
    "\n",
    "    record = {'img_size': [], 'text_line': []}\n",
    "    file_name_without_extension = json_file_path.stem\n",
    "    image_file = find_image_file(image_dir, file_name_without_extension)\n",
    "\n",
    "    if image_file is None:\n",
    "        print(f\"No image found for {json_file_path.name}, skipping.\")\n",
    "        continue\n",
    "\n",
    "    image = cv2.imread(image_file)\n",
    "    height, width = image.shape[:2]\n",
    "    # Swap the width and height for the 'img_size'\n",
    "    record['img_size'] = [height, width]\n",
    "\n",
    "    for annotation in annotations_data:\n",
    "        if 'polygon' in annotation and 'confidence' in annotation:\n",
    "            # Swap the x and y coordinates for each point in the polygon\n",
    "            swapped_polygon = [[point[1], point[0]] for point in annotation['polygon']]\n",
    "            text_line_entry = {\n",
    "                'confidence': annotation['confidence'],\n",
    "                # Ensure the polygon is closed by repeating the first point\n",
    "                'polygon': swapped_polygon + [swapped_polygon[0]] if swapped_polygon else []\n",
    "            }\n",
    "            record['text_line'].append(text_line_entry)\n",
    "\n",
    "    output_path = os.path.join(output_dir, file_name_without_extension + '.json')\n",
    "    with open(output_path, 'w') as outfile:\n",
    "        json.dump(record, outfile, indent=4)\n",
    "\n",
    "print(\"All files processed.\")\n"
   ]
  },
  {
   "cell_type": "code",
   "execution_count": 2,
   "metadata": {},
   "outputs": [
    {
     "name": "stderr",
     "output_type": "stream",
     "text": [
      "Processing JSON files:   1%|          | 2/226 [00:00<00:17, 12.74it/s]"
     ]
    },
    {
     "name": "stderr",
     "output_type": "stream",
     "text": [
      "Processing JSON files:  26%|██▌       | 59/226 [00:04<00:11, 13.99it/s]libpng warning: iCCP: known incorrect sRGB profile\n",
      "libpng warning: iCCP: known incorrect sRGB profile\n",
      "Processing JSON files:  44%|████▍     | 99/226 [00:07<00:08, 14.33it/s]libpng warning: iCCP: known incorrect sRGB profile\n",
      "Processing JSON files:  51%|█████▏    | 116/226 [00:08<00:07, 14.52it/s]libpng warning: iCCP: known incorrect sRGB profile\n",
      "Processing JSON files:  55%|█████▍    | 124/226 [00:09<00:08, 12.28it/s]libpng warning: iCCP: known incorrect sRGB profile\n",
      "Processing JSON files:  58%|█████▊    | 130/226 [00:09<00:06, 15.15it/s]libpng warning: iCCP: known incorrect sRGB profile\n",
      "Processing JSON files:  64%|██████▍   | 145/226 [00:10<00:08, 10.05it/s]libpng warning: iCCP: known incorrect sRGB profile\n",
      "Processing JSON files:  69%|██████▊   | 155/226 [00:11<00:08,  8.50it/s]libpng warning: iCCP: known incorrect sRGB profile\n",
      "Processing JSON files:  74%|███████▍  | 167/226 [00:13<00:05, 10.17it/s]libpng warning: iCCP: known incorrect sRGB profile\n",
      "Processing JSON files:  83%|████████▎ | 187/226 [00:14<00:02, 13.07it/s]libpng warning: iCCP: known incorrect sRGB profile\n",
      "libpng warning: iCCP: known incorrect sRGB profile\n",
      "Processing JSON files:  92%|█████████▏| 209/226 [00:16<00:01, 13.61it/s]libpng warning: iCCP: known incorrect sRGB profile\n",
      "Processing JSON files:  96%|█████████▋| 218/226 [00:16<00:00, 15.28it/s]libpng warning: iCCP: known incorrect sRGB profile\n",
      "Processing JSON files: 100%|██████████| 226/226 [00:17<00:00, 13.15it/s]"
     ]
    },
    {
     "name": "stdout",
     "output_type": "stream",
     "text": [
      "All files processed.\n"
     ]
    },
    {
     "name": "stderr",
     "output_type": "stream",
     "text": [
      "\n"
     ]
    }
   ],
   "source": [
    "# BBox\n",
    "import os\n",
    "from pathlib import Path\n",
    "import cv2\n",
    "import json\n",
    "from tqdm import tqdm\n",
    "\n",
    "# Directory paths\n",
    "json_dir = \"/trunk3/shared/yufei/dataset/jsons/val\"\n",
    "image_dir = \"/trunk3/shared/yufei/dataset/pictures/val\"\n",
    "output_dir = \"/trunk2/yufei/summer24/arabic_ms_data/teklia/ground_true/bbox\"\n",
    "\n",
    "# Ensure the output directory exists\n",
    "os.makedirs(output_dir, exist_ok=True)\n",
    "\n",
    "# List all JSON files in the directory\n",
    "json_files = list(Path(json_dir).rglob('*.json'))\n",
    "\n",
    "# Helper function to find the corresponding image file\n",
    "def find_image_file(base_path, file_name_without_extension):\n",
    "    image_extensions = ['.jpg', '.png', '.JPG', '.tif']\n",
    "    for extension in image_extensions:\n",
    "        image_path = os.path.join(base_path, file_name_without_extension + extension)\n",
    "        if os.path.exists(image_path):\n",
    "            return image_path\n",
    "    return None\n",
    "\n",
    "# Process each JSON file\n",
    "for json_file_path in tqdm(json_files, desc='Processing JSON files'):\n",
    "    with open(str(json_file_path), 'r') as f:\n",
    "        annotations_data = json.load(f)\n",
    "\n",
    "    record = {'img_size': [], 'text_line': []}\n",
    "    file_name_without_extension = json_file_path.stem\n",
    "    image_file = find_image_file(image_dir, file_name_without_extension)\n",
    "\n",
    "    if image_file is None:\n",
    "        print(f\"No image found for {json_file_path.name}, skipping.\")\n",
    "        continue\n",
    "\n",
    "    image = cv2.imread(image_file)\n",
    "    height, width = image.shape[:2]\n",
    "    # Set img_size with height and width\n",
    "    record['img_size'] = [height, width]\n",
    "\n",
    "    for annotation in annotations_data:\n",
    "        if 'polygon' in annotation and 'confidence' in annotation:\n",
    "            # Calculate the bounding box from the polygon points\n",
    "            polygon_points = annotation['polygon']\n",
    "            x_coords = [point[0] for point in polygon_points]\n",
    "            y_coords = [point[1] for point in polygon_points]\n",
    "            x_min = min(x_coords)\n",
    "            y_min = min(y_coords)\n",
    "            x_max = max(x_coords)\n",
    "            y_max = max(y_coords)\n",
    "\n",
    "            # Define the polygon as a list of four points (clockwise from top-left)\n",
    "            bbox_polygon = [\n",
    "                [x_min, y_min],\n",
    "                [x_max, y_min],\n",
    "                [x_max, y_max],\n",
    "                [x_min, y_max]\n",
    "            ]\n",
    "\n",
    "            text_line_entry = {\n",
    "                'confidence': annotation['confidence'],\n",
    "                # Store the bounding box as a polygon\n",
    "                'polygon': bbox_polygon\n",
    "            }\n",
    "            record['text_line'].append(text_line_entry)\n",
    "\n",
    "    output_path = os.path.join(output_dir, file_name_without_extension + '.json')\n",
    "    with open(output_path, 'w') as outfile:\n",
    "        json.dump(record, outfile, indent=4)\n",
    "\n",
    "print(\"All files processed.\")\n"
   ]
  },
  {
   "cell_type": "code",
   "execution_count": null,
   "metadata": {},
   "outputs": [],
   "source": []
  }
 ],
 "metadata": {
  "kernelspec": {
   "display_name": "Python 3 (ipykernel)",
   "language": "python",
   "name": "python3"
  },
  "language_info": {
   "codemirror_mode": {
    "name": "ipython",
    "version": 3
   },
   "file_extension": ".py",
   "mimetype": "text/x-python",
   "name": "python",
   "nbconvert_exporter": "python",
   "pygments_lexer": "ipython3",
   "version": "3.8.19"
  }
 },
 "nbformat": 4,
 "nbformat_minor": 4
}
